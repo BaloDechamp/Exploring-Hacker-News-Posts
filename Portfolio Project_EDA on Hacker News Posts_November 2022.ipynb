{
 "cells": [
  {
   "cell_type": "markdown",
   "metadata": {
    "collapsed": true
   },
   "source": [
    "# Exploring Hacker News Posts"
   ]
  },
  {
   "cell_type": "markdown",
   "metadata": {},
   "source": [
    "### 1.0 Introduction to the Project and the Dataset"
   ]
  },
  {
   "cell_type": "markdown",
   "metadata": {},
   "source": [
    "In this project, i will be working with a dataset of submissions to popular technology site ``Hacker News``. ``Hacker News`` is a site where user-submitted stories (known as \"posts\") receive votes and comments, similar to reddit. ``Hacker News`` is extremely popular in technology and startup circles, and posts that make it to the top of the ``Hacker News`` listings can get hundreds of thousands of visitors as result.\n",
    "\n",
    "The data set used in this project can be found [here](https://www.kaggle.com/hacker-news/hacker-news-posts). It should be noted that the dataset have been reduced from almost 300,000 rows to approximately 20,000 rows by removing all submission that did not receive any comments and then randomly sampling from the remaining submissions. Below are descriptions of the columns:\n",
    "\n",
    "* ``id``: the unique identifier from Hacker News for the post\n",
    "* ``title``: the title of the post\n",
    "* ``url``: the URL that the posts links to, if the post has a URL\n",
    "* ``num_points``: the number of points the post acquired, calculated as the total number of upvotes minus the total number of * downvotes\n",
    "* ``num_comments``: the number of comments on the post\n",
    "* ``author``: the username of the person who submitted the post\n",
    "* ``created_at``: the date and time of the post's submission"
   ]
  },
  {
   "cell_type": "markdown",
   "metadata": {},
   "source": [
    "### 1.1 The Goal of this Project"
   ]
  },
  {
   "cell_type": "markdown",
   "metadata": {},
   "source": [
    "The goal of this project is to find the best hours to make a post on ``Hacker News`` using the comments and points on average post per hour.\n",
    "\n",
    "How do we achieve this?\n",
    "\n",
    "``Hacker News`` have two categories of posts which are \"Ask HN\" and \"Show HN\". I will begin my analysis by comparing the engagements recieved on an average on the two categories. I will then take a step further to compare the result with the engagement received on anaverage on other posts which does not fall into the Ask HN or Show HN category."
   ]
  },
  {
   "cell_type": "markdown",
   "metadata": {},
   "source": [
    "### 1.2 Loading the Dataset into Python, Reading and Setting a List Data Type for the Dataset"
   ]
  },
  {
   "cell_type": "code",
   "execution_count": 30,
   "metadata": {},
   "outputs": [
    {
     "name": "stdout",
     "output_type": "stream",
     "text": [
      "['id', 'title', 'url', 'num_points', 'num_comments', 'author', 'created_at']\n",
      "['12224879', 'Interactive Dynamic Video', 'http://www.interactivedynamicvideo.com/', '386', '52', 'ne0phyte', '8/4/2016 11:52']\n",
      "['10975351', 'How to Use Open Source and Shut the Fuck Up at the Same Time', 'http://hueniverse.com/2016/01/26/how-to-use-open-source-and-shut-the-fuck-up-at-the-same-time/', '39', '10', 'josep2', '1/26/2016 19:30']\n",
      "['11964716', \"Florida DJs May Face Felony for April Fools' Water Joke\", 'http://www.thewire.com/entertainment/2013/04/florida-djs-april-fools-water-joke/63798/', '2', '1', 'vezycash', '6/23/2016 22:20']\n",
      "['11919867', 'Technology ventures: From Idea to Enterprise', 'https://www.amazon.com/Technology-Ventures-Enterprise-Thomas-Byers/dp/0073523429', '3', '1', 'hswarna', '6/17/2016 0:01']\n"
     ]
    }
   ],
   "source": [
    "#Importing the CSV Module to open and read a CSV File\n",
    "from csv import reader\n",
    "opened_file = open('hacker_news.csv')\n",
    "read_file = reader(opened_file)\n",
    "hacker_news = list(read_file)\n",
    "\n",
    "#Printing the first five rows of the data set\n",
    "print(*hacker_news[0:5], sep = \"\\n\")"
   ]
  },
  {
   "cell_type": "markdown",
   "metadata": {},
   "source": [
    "### 1.3 Remove the Header of the Data Set"
   ]
  },
  {
   "cell_type": "markdown",
   "metadata": {},
   "source": [
    "Removing the header row so it does affect our analysis."
   ]
  },
  {
   "cell_type": "code",
   "execution_count": 31,
   "metadata": {},
   "outputs": [
    {
     "name": "stdout",
     "output_type": "stream",
     "text": [
      "['id', 'title', 'url', 'num_points', 'num_comments', 'author', 'created_at']\n",
      "['12224879', 'Interactive Dynamic Video', 'http://www.interactivedynamicvideo.com/', '386', '52', 'ne0phyte', '8/4/2016 11:52']\n",
      "['10975351', 'How to Use Open Source and Shut the Fuck Up at the Same Time', 'http://hueniverse.com/2016/01/26/how-to-use-open-source-and-shut-the-fuck-up-at-the-same-time/', '39', '10', 'josep2', '1/26/2016 19:30']\n",
      "['11964716', \"Florida DJs May Face Felony for April Fools' Water Joke\", 'http://www.thewire.com/entertainment/2013/04/florida-djs-april-fools-water-joke/63798/', '2', '1', 'vezycash', '6/23/2016 22:20']\n",
      "['11919867', 'Technology ventures: From Idea to Enterprise', 'https://www.amazon.com/Technology-Ventures-Enterprise-Thomas-Byers/dp/0073523429', '3', '1', 'hswarna', '6/17/2016 0:01']\n",
      "['10301696', 'Note by Note: The Making of Steinway L1037 (2007)', 'http://www.nytimes.com/2007/11/07/movies/07stein.html?_r=0', '8', '2', 'walterbell', '9/30/2015 4:12']\n"
     ]
    }
   ],
   "source": [
    "headers = hacker_news[0]\n",
    "print(headers)\n",
    "\n",
    "hacker_news = hacker_news[1:]\n",
    "print(*hacker_news[0:5], sep = \"\\n\")"
   ]
  },
  {
   "cell_type": "markdown",
   "metadata": {},
   "source": [
    "### 1.4 Finding and Seperating Ask HN and Show HN posts from Other Posts"
   ]
  },
  {
   "cell_type": "markdown",
   "metadata": {},
   "source": [
    "Firstly, we will need to create new list for the title of posts that starts with Ask HN, title of posts that start with Show HN and other titles and insert the data set rows (that falls into each category) into their respective list."
   ]
  },
  {
   "cell_type": "code",
   "execution_count": 4,
   "metadata": {},
   "outputs": [
    {
     "name": "stdout",
     "output_type": "stream",
     "text": [
      "We have 1744 posts under Ask HN post\n",
      "We have 1162 posts under Show HN post\n",
      "We have 17195 posts under Other post\n"
     ]
    }
   ],
   "source": [
    "#Creating a new list for each categories so we can store the rows that falls under each ategory in the list\n",
    "ask_posts = []\n",
    "show_posts = []\n",
    "other_posts = []\n",
    "\n",
    "#Looping through the data set rows to find the rows that meets our condition and appending them to their respective list\n",
    "for row in hacker_news:\n",
    "    title = row[1]\n",
    "    title = title.lower()\n",
    "    \n",
    "    if title.startswith('ask hn'):\n",
    "        ask_posts.append(row)\n",
    "        \n",
    "    elif title.startswith('show hn'):\n",
    "        show_posts.append(row)\n",
    "        \n",
    "    else:\n",
    "        other_posts.append(row)\n",
    "        \n",
    "print(\"We have\", len(ask_posts), \"posts under Ask HN post\")\n",
    "print(\"We have\", len(show_posts), \"posts under Show HN post\")\n",
    "print(\"We have\", len(other_posts), \"posts under Other post\")"
   ]
  },
  {
   "cell_type": "markdown",
   "metadata": {},
   "source": [
    "### 1.5.1 Calculating the Average Number of Comments for Ask HN and Show HN Posts"
   ]
  },
  {
   "cell_type": "markdown",
   "metadata": {},
   "source": [
    "Having separated each post into Ask HN or Show HN where the given condition was true, we will proceed to compare the title type with most average number of comments."
   ]
  },
  {
   "cell_type": "code",
   "execution_count": 8,
   "metadata": {},
   "outputs": [
    {
     "name": "stdout",
     "output_type": "stream",
     "text": [
      "The average number of comments under ask post is 14.038417431192661 per post\n"
     ]
    }
   ],
   "source": [
    "#The Average Number of Comments for Ask HN Posts\n",
    "\n",
    "total_ask_comments = 0\n",
    "\n",
    "for row in ask_posts:\n",
    "    num_comments = row[4]\n",
    "    num_comments = int(num_comments)\n",
    "    total_ask_comments = total_ask_comments + num_comments\n",
    "    \n",
    "avg_ask_comments = total_ask_comments / len(ask_posts)\n",
    "print('The average number of comments under ask post is', avg_ask_comments, 'per post')"
   ]
  },
  {
   "cell_type": "code",
   "execution_count": 9,
   "metadata": {
    "scrolled": true
   },
   "outputs": [
    {
     "name": "stdout",
     "output_type": "stream",
     "text": [
      "The average number of comments under show post is 10.31669535283993 per post\n"
     ]
    }
   ],
   "source": [
    "#The Average Number of Comments for Show HN Posts\n",
    "\n",
    "total_show_comments = 0\n",
    "\n",
    "for row in show_posts:\n",
    "    num_comments = row[4]\n",
    "    num_comments = int(num_comments)\n",
    "    total_show_comments = total_show_comments + num_comments\n",
    "    \n",
    "avg_show_comments = total_show_comments / len(show_posts)\n",
    "print('The average number of comments under show post is', avg_show_comments, 'per post')"
   ]
  },
  {
   "cell_type": "markdown",
   "metadata": {},
   "source": [
    "It is clear that the average number of comments received per post on the Ask Posts is 14 comments per post while 10 comments are the average number of comments recevied per post for show posts. We will therefore continue our analysis using the ASK Posts list"
   ]
  },
  {
   "cell_type": "markdown",
   "metadata": {},
   "source": [
    "### 1.5.2 Calculating the Average Number of Points for Ask HN and Show HN Posts"
   ]
  },
  {
   "cell_type": "code",
   "execution_count": 25,
   "metadata": {},
   "outputs": [
    {
     "name": "stdout",
     "output_type": "stream",
     "text": [
      "The average number of points received for ask post is 15.061926605504587 per post\n"
     ]
    }
   ],
   "source": [
    "#The Average Number of Points for Ask HN Posts\n",
    "\n",
    "total_ask_points = 0\n",
    "\n",
    "for row in ask_posts:\n",
    "    num_points = row[3]\n",
    "    num_points = int(num_points)\n",
    "    total_ask_points = total_ask_points + num_points\n",
    "    \n",
    "avg_ask_points = total_ask_points / len(ask_posts)\n",
    "print('The average number of points received for ask post is', avg_ask_points, 'per post')"
   ]
  },
  {
   "cell_type": "code",
   "execution_count": 24,
   "metadata": {},
   "outputs": [
    {
     "name": "stdout",
     "output_type": "stream",
     "text": [
      "The average number of points received for show post is 27.555077452667813 per post\n"
     ]
    }
   ],
   "source": [
    "#The Average Number of points for Show HN Posts\n",
    "\n",
    "total_show_points = 0\n",
    "\n",
    "for row in show_posts:\n",
    "    num_points = row[3]\n",
    "    num_points = int(num_points)\n",
    "    total_show_points = total_show_points + num_points\n",
    "    \n",
    "avg_show_points = total_show_points / len(show_posts)\n",
    "print('The average number of points received for show post is', avg_show_points, 'per post')"
   ]
  },
  {
   "cell_type": "markdown",
   "metadata": {},
   "source": [
    "We will work with the Show posts for the points average per post since the average number of points received was higher for Show points having had a figure of 27.5 Points per post."
   ]
  },
  {
   "cell_type": "markdown",
   "metadata": {},
   "source": [
    "### 1.6.1 Find the Number of Comments under Ask Posts by Hour Created"
   ]
  },
  {
   "cell_type": "markdown",
   "metadata": {},
   "source": [
    "Since our goal is to find the hour at which a post receives more comment, we will proceed to look at the two elements on an hourly basis.\n",
    "\n",
    "* The number of Post\n",
    "* The number of comments received\n",
    "\n",
    "This will create a pathway to getting the average number of comments received per post on hourly basis and reveal the hour with the most average comments received. Please see below:"
   ]
  },
  {
   "cell_type": "code",
   "execution_count": 119,
   "metadata": {},
   "outputs": [
    {
     "name": "stdout",
     "output_type": "stream",
     "text": [
      "POSTS PER HOUR: {'09': 45, '13': 85, '10': 59, '14': 107, '16': 108, '23': 68, '12': 73, '17': 100, '15': 116, '21': 109, '20': 80, '02': 58, '18': 109, '03': 54, '05': 46, '19': 110, '01': 60, '22': 71, '08': 48, '04': 47, '00': 55, '06': 44, '07': 34, '11': 58}\n",
      "\n",
      "\n",
      "COMMENTS PER HOUR: {'09': 251, '13': 1253, '10': 793, '14': 1416, '16': 1814, '23': 543, '12': 687, '17': 1146, '15': 4477, '21': 1745, '20': 1722, '02': 1381, '18': 1439, '03': 421, '05': 464, '19': 1188, '01': 683, '22': 479, '08': 492, '04': 337, '00': 447, '06': 397, '07': 267, '11': 641}\n"
     ]
    }
   ],
   "source": [
    "#Importing the Datetime Module to simplify our processes of working with date and time.\n",
    "import datetime as dt\n",
    "\n",
    "#Creating a new list that will be used in stroing time posts were created and comments on each post.\n",
    "result_list_comments = []\n",
    "for row in ask_posts:\n",
    "    created_at_comments = row[6]\n",
    "    num_comments_ask = row[4]\n",
    "    num_comments_ask = int(num_comments_ask)\n",
    "    result_list_comments.append([created_at_comments, num_comments_ask])\n",
    "\n",
    "#Creating dictionaries to create a frequency table of each hour and post made, and each hour and comments received    \n",
    "counts_by_hour_ask = {}\n",
    "comments_by_hour_ask = {}\n",
    "\n",
    "#Creating a format that will be used in parsing our time data\n",
    "date_format_comments = ('%m/%d/%Y %H:%M')\n",
    "\n",
    "#Parsing the time data\n",
    "for row in result_list_comments:\n",
    "    hour_count_comments = row[0]\n",
    "    hour_count_comments = dt.datetime.strptime(hour_count_comments, date_format_comments)\n",
    "    row[0] = hour_count_comments\n",
    "\n",
    "#Using Strftime to select only the Hour from the datetime object\n",
    "for row in result_list_comments:\n",
    "    hour_count_comments = row[0]\n",
    "    hour_count_comments = dt.datetime.strftime(hour_count_comments, '%H')\n",
    "    row[0] = hour_count_comments\n",
    "    \n",
    "    hour_count_ask = row[0]\n",
    "    comment_count_ask = row[1]\n",
    "    \n",
    "    if hour_count_ask in counts_by_hour_ask:\n",
    "        counts_by_hour_ask[hour_count_ask] += 1\n",
    "        comments_by_hour_ask[hour_count_ask] += comment_count_ask\n",
    "        \n",
    "    else:\n",
    "        counts_by_hour_ask[hour_count_ask] = 1\n",
    "        comments_by_hour_ask[hour_count_ask] = comment_count_ask\n",
    "        \n",
    "print(\"POSTS PER HOUR:\", counts_by_hour_ask)\n",
    "print('\\n')\n",
    "print(\"COMMENTS PER HOUR:\", comments_by_hour_ask)"
   ]
  },
  {
   "cell_type": "markdown",
   "metadata": {},
   "source": [
    "### 1.6.2 Calculate Average Comments for Posts on Hourly Basis"
   ]
  },
  {
   "cell_type": "code",
   "execution_count": 120,
   "metadata": {},
   "outputs": [
    {
     "data": {
      "text/plain": [
       "[[38.5948275862069, '15:00'],\n",
       " [23.810344827586206, '02:00'],\n",
       " [21.525, '20:00'],\n",
       " [16.796296296296298, '16:00'],\n",
       " [16.009174311926607, '21:00']]"
      ]
     },
     "execution_count": 120,
     "metadata": {},
     "output_type": "execute_result"
    }
   ],
   "source": [
    "#Calulating the average number of comments\n",
    "avg_by_hour_comment = []\n",
    "\n",
    "for row in comments_by_hour_ask:\n",
    "    avg_by_hour_comment.append([row, (comments_by_hour_ask[row] / counts_by_hour_ask[row])])\n",
    "    \n",
    "#Reversing the position of the average comments to sort my data accordingly\n",
    "avg_by_hour_comment_reversed = []\n",
    "for row in avg_by_hour_comment:\n",
    "    avg_by_hour_comment_reversed.append([row[1], row[0]])\n",
    "\n",
    "#Sorting my result using a function\n",
    "sorted_avg_by_hour_comment = sorted(avg_by_hour_comment_reversed, reverse=True)\n",
    "\n",
    "#Selecting the top 5 hours with most average comments\n",
    "\n",
    "top_ask_posts_comment = sorted_avg_by_hour_comment[0:5]\n",
    "\n",
    "date_format_avg = ('%H')\n",
    "\n",
    "for row in top_ask_posts_comment:\n",
    "    hour_format_ask = row[1]\n",
    "    hour_format_ask = dt.datetime.strptime(hour_format_ask, date_format_avg)\n",
    "    hour_format_ask = dt.datetime.strftime(hour_format_ask, '%H:%M')\n",
    "    row[1] = hour_format_ask\n",
    "    \n",
    "top_ask_posts_comment"
   ]
  },
  {
   "cell_type": "code",
   "execution_count": 121,
   "metadata": {},
   "outputs": [
    {
     "name": "stdout",
     "output_type": "stream",
     "text": [
      "15:00: 38.59 average comments per post\n",
      "02:00: 23.81 average comments per post\n",
      "20:00: 21.52 average comments per post\n",
      "16:00: 16.80 average comments per post\n",
      "21:00: 16.01 average comments per post\n"
     ]
    }
   ],
   "source": [
    "#Printing out the Result\n",
    "final_result = \"{text_1}: {text_2:.2f} average comments per post\"\n",
    "\n",
    "for row in top_ask_posts_comment:\n",
    "    comment_ask = row[0]\n",
    "    hour_ask = row[1]\n",
    "    \n",
    "    print(final_result.format(text_1=hour_ask, text_2=comment_ask))"
   ]
  },
  {
   "cell_type": "markdown",
   "metadata": {},
   "source": [
    "The 15th hour is the hour with the most average comments per post having a total of 38.59 comments per post. Using the timezone for the dataset documentation which is Eastern Standard Time (EST), we can conclude that the hours with the most average number of comments per post is 3:00pm EST - 4:00PM EST"
   ]
  },
  {
   "cell_type": "markdown",
   "metadata": {},
   "source": [
    "### 1.7.1 Find the Number of  Posts and Points under Show Posts by Hour Created"
   ]
  },
  {
   "cell_type": "markdown",
   "metadata": {},
   "source": [
    "Following the same logic as in figure 1.6.1, i will proceed to find the number of posts per hour and the number of points received per hour."
   ]
  },
  {
   "cell_type": "code",
   "execution_count": 95,
   "metadata": {},
   "outputs": [
    {
     "name": "stdout",
     "output_type": "stream",
     "text": [
      "POSTS PER HOUR: {'14': 86, '22': 46, '18': 61, '07': 26, '20': 60, '05': 19, '16': 93, '19': 55, '15': 78, '03': 27, '17': 93, '06': 16, '02': 30, '13': 99, '08': 34, '21': 47, '04': 26, '11': 44, '12': 61, '23': 36, '09': 30, '01': 28, '10': 36, '00': 31}\n",
      "\n",
      "\n",
      "POINTS PER HOUR: {'14': 2187, '22': 1856, '18': 2215, '07': 494, '20': 1819, '05': 104, '16': 2634, '19': 1702, '15': 2228, '03': 679, '17': 2521, '06': 375, '02': 340, '13': 2438, '08': 519, '21': 866, '04': 386, '11': 1480, '12': 2543, '23': 1526, '09': 553, '01': 700, '10': 681, '00': 1173}\n"
     ]
    }
   ],
   "source": [
    "#Creating a new list that will be used in stroing time posts were created and points on each post.\n",
    "result_list_show = []\n",
    "for row in show_posts:\n",
    "    created_at_show = row[6]\n",
    "    num_points_show = row[3]\n",
    "    num_points_show = int(num_points_show)\n",
    "    result_list_show.append([created_at_show, num_points_show])\n",
    "\n",
    "#Creating dictionaries to create a frequency table of each hour and post made, and each hour and points received    \n",
    "counts_by_hour_show = {}\n",
    "points_by_hour_show = {}\n",
    "\n",
    "#Creating a format that will be used in parsing our time data\n",
    "date_format_show = ('%m/%d/%Y %H:%M')\n",
    "\n",
    "#Parsing the time data\n",
    "for row in result_list_show:\n",
    "    hour_count_show = row[0]\n",
    "    hour_count_show = dt.datetime.strptime(hour_count_show, date_format_show)\n",
    "    row[0] = hour_count_show\n",
    "\n",
    "#Using Strftime to select only the Hour from the datetime object\n",
    "for row in result_list_show:\n",
    "    hour_count_show = row[0]\n",
    "    hour_count_show = dt.datetime.strftime(hour_count_show, '%H')\n",
    "    row[0] = hour_count_show\n",
    "    \n",
    "    hour_count_show = row[0]\n",
    "    point_count_show = row[1]\n",
    "    \n",
    "    if hour_count_show in counts_by_hour_show:\n",
    "        counts_by_hour_show[hour_count_show] += 1\n",
    "        points_by_hour_show[hour_count_show] += point_count_show\n",
    "        \n",
    "    else:\n",
    "        counts_by_hour_show[hour_count_show] = 1\n",
    "        points_by_hour_show[hour_count_show] = point_count_show\n",
    "        \n",
    "print(\"POSTS PER HOUR:\", counts_by_hour_show)\n",
    "print('\\n')\n",
    "print(\"POINTS PER HOUR:\", points_by_hour_show)"
   ]
  },
  {
   "cell_type": "markdown",
   "metadata": {},
   "source": [
    "### 1.7.2 Calculate the Average Number of Points for Show Posts per hour"
   ]
  },
  {
   "cell_type": "markdown",
   "metadata": {},
   "source": [
    "Using the same approach, i will proceed with getting the average number of points for show posts per hour."
   ]
  },
  {
   "cell_type": "code",
   "execution_count": 122,
   "metadata": {},
   "outputs": [
    {
     "data": {
      "text/plain": [
       "[[42.388888888888886, '23:00'],\n",
       " [41.68852459016394, '12:00'],\n",
       " [40.34782608695652, '22:00'],\n",
       " [37.83870967741935, '00:00'],\n",
       " [36.31147540983606, '18:00']]"
      ]
     },
     "execution_count": 122,
     "metadata": {},
     "output_type": "execute_result"
    }
   ],
   "source": [
    "#Calulating the average number of points by hour\n",
    "avg_points_by_hour_show = []\n",
    "\n",
    "for row in points_by_hour_show:\n",
    "    avg_points_by_hour_show.append([row, (points_by_hour_show[row] / counts_by_hour_show[row])])\n",
    "    \n",
    "#Reversing the position of the average points to sort my data accordingly\n",
    "avg_points_by_hour_reversed = []\n",
    "for row in avg_points_by_hour_show:\n",
    "    avg_points_by_hour_reversed.append([row[1], row[0]])\n",
    "    \n",
    "#Sorting my result using a function\n",
    "sorted_avg_point_by_hour = sorted(avg_points_by_hour_reversed, reverse=True)\n",
    "\n",
    "#Selecting the top 5 hours with most average points\n",
    "\n",
    "top_show_posts_point = sorted_avg_point_by_hour[0:5]\n",
    "\n",
    "date_format_show = ('%H')\n",
    "\n",
    "for row in top_show_posts_point:\n",
    "    hour_format_show = row[1]\n",
    "    hour_format_show = dt.datetime.strptime(hour_format_show, date_format_show)\n",
    "    hour_format_show = dt.datetime.strftime(hour_format_show, '%H:%M')\n",
    "    row[1] = hour_format_show\n",
    "    \n",
    "top_show_posts_point"
   ]
  },
  {
   "cell_type": "code",
   "execution_count": 123,
   "metadata": {},
   "outputs": [
    {
     "name": "stdout",
     "output_type": "stream",
     "text": [
      "23:00: 42.39 average points per post\n",
      "12:00: 41.69 average points per post\n",
      "22:00: 40.35 average points per post\n",
      "00:00: 37.84 average points per post\n",
      "18:00: 36.31 average points per post\n"
     ]
    }
   ],
   "source": [
    "#Printing out the Result\n",
    "final_result = \"{text_1}: {text_2:.2f} average points per post\"\n",
    "\n",
    "for row in top_show_posts_point:\n",
    "    comment = row[0]\n",
    "    hour = row[1]\n",
    "    \n",
    "    print(final_result.format(text_1=hour, text_2=comment))"
   ]
  },
  {
   "cell_type": "markdown",
   "metadata": {},
   "source": [
    "The result above shows that users posting around 10:00PM EST - 00:00AM EST received more points with an average points of 120.58 points per post. Therefore, we can conclude that the best hour to post on ``Hacker News`` for more points is within 10:00PM EST - 00:00AM EST."
   ]
  },
  {
   "cell_type": "markdown",
   "metadata": {},
   "source": [
    "### 1.8 The Other Posts"
   ]
  },
  {
   "cell_type": "markdown",
   "metadata": {},
   "source": [
    "It is imperative to take a step further and compare the results we have gotten above with the average points and comment on an hourly basis for posts that falls under the category of Other Posts."
   ]
  },
  {
   "cell_type": "markdown",
   "metadata": {},
   "source": [
    "### 1.9.1 Calculate the Number of Post per hour and the Number of Comment Received per hour."
   ]
  },
  {
   "cell_type": "code",
   "execution_count": 124,
   "metadata": {},
   "outputs": [
    {
     "name": "stdout",
     "output_type": "stream",
     "text": [
      "POSTS PER HOUR: {'09': 533, '18': 1084, '04': 453, '16': 1100, '10': 591, '12': 789, '20': 911, '03': 407, '22': 757, '17': 1169, '14': 958, '13': 918, '01': 500, '11': 659, '23': 674, '08': 496, '02': 441, '21': 874, '00': 609, '15': 1040, '06': 408, '05': 388, '19': 979, '07': 448}\n",
      "\n",
      "\n",
      "COMMENTS PER HOUR: {'09': 14710, '18': 29186, '04': 10951, '16': 27952, '10': 15728, '12': 23944, '20': 21080, '03': 10918, '22': 17634, '17': 32727, '14': 30973, '13': 28363, '01': 11536, '11': 19480, '23': 16592, '08': 13405, '02': 12254, '21': 20635, '00': 16539, '15': 30700, '06': 8714, '05': 9768, '19': 26157, '07': 12010}\n"
     ]
    }
   ],
   "source": [
    "#Importing the Datetime Module.\n",
    "import datetime as dt\n",
    "\n",
    "#Removing Headers from other posts\n",
    "other_posts = other_posts[1:]\n",
    "\n",
    "#Creating a new list that will be used in stroing time posts were created and comments on each post.\n",
    "result_list_others = []\n",
    "for row in other_posts:\n",
    "    created_at_comments_others = row[6]\n",
    "    num_comments_others = row[4]\n",
    "    num_comments_others = int(num_comments_others)\n",
    "    result_list_others.append([created_at_comments_others, num_comments_others])\n",
    "\n",
    "#Creating dictionaries to create a frequency table of each hour and post made, and each hour and comments received    \n",
    "counts_by_hour_others = {}\n",
    "comments_by_hour_others = {}\n",
    "\n",
    "#Creating a format that will be used in parsing our time data\n",
    "date_format_others = ('%m/%d/%Y %H:%M')\n",
    "\n",
    "#Parsing the time data\n",
    "for row in result_list_others:\n",
    "    hour_count_others = row[0]\n",
    "    hour_count_others = dt.datetime.strptime(hour_count_others, date_format_others)\n",
    "    row[0] = hour_count_others\n",
    "\n",
    "#Using Strftime to select only the Hour from the datetime object\n",
    "for row in result_list_others:\n",
    "    hour_count_others = row[0]\n",
    "    hour_count_others = dt.datetime.strftime(hour_count_others, '%H')\n",
    "    row[0] = hour_count_others\n",
    "    \n",
    "    hour_count_others = row[0]\n",
    "    comment_count_others = row[1]\n",
    "    \n",
    "    if hour_count_others in counts_by_hour_others:\n",
    "        counts_by_hour_others[hour_count_others] += 1\n",
    "        comments_by_hour_others[hour_count_others] += comment_count_others\n",
    "        \n",
    "    else:\n",
    "        counts_by_hour_others[hour_count_others] = 1\n",
    "        comments_by_hour_others[hour_count_others] = comment_count_others\n",
    "        \n",
    "print(\"POSTS PER HOUR:\", counts_by_hour_others)\n",
    "print('\\n')\n",
    "print(\"COMMENTS PER HOUR:\", comments_by_hour_others)"
   ]
  },
  {
   "cell_type": "markdown",
   "metadata": {},
   "source": [
    "### 1.9.2 Calculate the Average Number of Comments for Other Posts per hour"
   ]
  },
  {
   "cell_type": "code",
   "execution_count": 118,
   "metadata": {},
   "outputs": [
    {
     "data": {
      "text/plain": [
       "[[32.33089770354906, '14:00'],\n",
       " [30.896514161220043, '13:00'],\n",
       " [30.34727503168568, '12:00'],\n",
       " [29.559939301972687, '11:00'],\n",
       " [29.51923076923077, '15:00']]"
      ]
     },
     "execution_count": 118,
     "metadata": {},
     "output_type": "execute_result"
    }
   ],
   "source": [
    "#Calulating the average number of comments by hour\n",
    "avg_comments_by_hour_others = []\n",
    "\n",
    "for row in comments_by_hour_others:\n",
    "    avg_comments_by_hour_others.append([row, (comments_by_hour_others[row] / counts_by_hour_others[row])])\n",
    "\n",
    "#Reversing the position of the average comments to sort my data accordingly\n",
    "avg_comments_by_hour_others_reversed = []\n",
    "for row in avg_comments_by_hour_others:\n",
    "    avg_comments_by_hour_others_reversed.append([row[1], row[0]])\n",
    "\n",
    "#Sorting my result using a function\n",
    "sorted_avg_comments_others = sorted(avg_comments_by_hour_others_reversed, reverse=True)\n",
    "\n",
    "#Selecting the top 5 hours with most average comments\n",
    "top_other_posts_comment = sorted_avg_comments_others[0:5]\n",
    "\n",
    "date_format_others_comment = ('%H')\n",
    "\n",
    "for row in top_other_posts_comment:\n",
    "    hour_format_others = row[1]\n",
    "    hour_format_others = dt.datetime.strptime(hour_format_others, date_format_others_comment)\n",
    "    hour_format_others = dt.datetime.strftime(hour_format_others, '%H:%M')\n",
    "    row[1] = hour_format_others\n",
    "    \n",
    "top_other_posts_comment"
   ]
  },
  {
   "cell_type": "markdown",
   "metadata": {},
   "source": [
    "Posts with the highest average comments per post under the other posts category falls within 11:00AM EST - 3:00PM EST. It is ideal to combine the top 5 results togther given the slight differences both in hours and average count of comments received."
   ]
  },
  {
   "cell_type": "markdown",
   "metadata": {},
   "source": [
    "### 1.10.1 Calculate the Number of Post per hour and the Number of Points Received per hour."
   ]
  },
  {
   "cell_type": "code",
   "execution_count": 127,
   "metadata": {},
   "outputs": [
    {
     "name": "stdout",
     "output_type": "stream",
     "text": [
      "POSTS PER HOUR: {'09': 533, '18': 1084, '04': 453, '16': 1100, '10': 591, '12': 789, '20': 911, '03': 407, '22': 757, '17': 1169, '14': 958, '13': 918, '01': 500, '11': 659, '23': 674, '08': 496, '02': 441, '21': 874, '00': 609, '15': 1040, '06': 408, '05': 388, '19': 979, '07': 448}\n",
      "\n",
      "\n",
      "POINTS PER HOUR: {'09': 28749, '18': 58459, '04': 22541, '16': 59621, '10': 35746, '12': 45287, '20': 41218, '03': 23167, '22': 38077, '17': 67777, '14': 59191, '13': 57398, '01': 25303, '11': 37609, '23': 35068, '08': 26830, '02': 25786, '21': 43149, '00': 35712, '15': 62964, '06': 18864, '05': 19387, '19': 58772, '07': 25461}\n"
     ]
    }
   ],
   "source": [
    "#Importing the Datetime Module.\n",
    "import datetime as dt\n",
    "\n",
    "\n",
    "#Creating a new list that will be used in stroing time posts were created and points on each post.\n",
    "result_list_point_others = []\n",
    "for row in other_posts:\n",
    "    created_at_point_others = row[6]\n",
    "    num_points_others = row[3]\n",
    "    num_points_others = int(num_points_others)\n",
    "    result_list_point_others.append([created_at_point_others, num_points_others])\n",
    "\n",
    "#Creating dictionaries to create a frequency table of each hour and post made, and each hour and pointts received    \n",
    "counts_by_hour_point_others = {}\n",
    "points_by_hour_others = {}\n",
    "\n",
    "#Creating a format that will be used in parsing our time data\n",
    "date_format_point_others = ('%m/%d/%Y %H:%M')\n",
    "\n",
    "#Parsing the time data\n",
    "for row in result_list_point_others:\n",
    "    hour_count_point_others = row[0]\n",
    "    hour_count_point_others = dt.datetime.strptime(hour_count_point_others, date_format_point_others)\n",
    "    row[0] = hour_count_point_others\n",
    "\n",
    "#Using Strftime to select only the Hour from the datetime object\n",
    "for row in result_list_point_others:\n",
    "    hour_count_point_others = row[0]\n",
    "    hour_count_point_others = dt.datetime.strftime(hour_count_point_others, '%H')\n",
    "    row[0] = hour_count_point_others\n",
    "    \n",
    "    hour_count_point_others = row[0]\n",
    "    point_count_others = row[1]\n",
    "    \n",
    "    if hour_count_point_others in counts_by_hour_point_others:\n",
    "        counts_by_hour_point_others[hour_count_point_others] += 1\n",
    "        points_by_hour_others[hour_count_point_others] += point_count_others\n",
    "        \n",
    "    else:\n",
    "        counts_by_hour_point_others[hour_count_point_others] = 1\n",
    "        points_by_hour_others[hour_count_point_others] = point_count_others\n",
    "        \n",
    "print(\"POSTS PER HOUR:\", counts_by_hour_point_others)\n",
    "print('\\n')\n",
    "print(\"POINTS PER HOUR:\", points_by_hour_others)"
   ]
  },
  {
   "cell_type": "markdown",
   "metadata": {},
   "source": [
    "### 1.10.2 Calculate the Average Number of Points for Other Posts per hour"
   ]
  },
  {
   "cell_type": "code",
   "execution_count": 129,
   "metadata": {},
   "outputs": [
    {
     "data": {
      "text/plain": [
       "[[62.525054466230934, '13:00'],\n",
       " [61.78601252609603, '14:00'],\n",
       " [60.542307692307695, '15:00'],\n",
       " [60.4839255499154, '10:00'],\n",
       " [60.032686414708884, '19:00']]"
      ]
     },
     "execution_count": 129,
     "metadata": {},
     "output_type": "execute_result"
    }
   ],
   "source": [
    "#Calulating the average number of comments by hour\n",
    "avg_points_by_hour_others = []\n",
    "\n",
    "for row in points_by_hour_others:\n",
    "    avg_points_by_hour_others.append([row, (points_by_hour_others[row] / counts_by_hour_point_others[row])])\n",
    "\n",
    "#Reversing the position of the average comments to sort my data accordingly\n",
    "avg_points_by_hour_others_reversed = []\n",
    "for row in avg_points_by_hour_others:\n",
    "    avg_points_by_hour_others_reversed.append([row[1], row[0]])\n",
    "\n",
    "#Sorting my result using a function\n",
    "sorted_avg_points_others = sorted(avg_points_by_hour_others_reversed, reverse=True)\n",
    "\n",
    "#Selecting the top 5 hours with most average points\n",
    "top_other_posts_point = sorted_avg_points_others[0:5]\n",
    "\n",
    "date_format_point_other = ('%H')\n",
    "\n",
    "for row in top_other_posts_point:\n",
    "    hour_format_point_others = row[1]\n",
    "    hour_format_point_others = dt.datetime.strptime(hour_format_point_others, date_format_point_other)\n",
    "    hour_format_point_others = dt.datetime.strftime(hour_format_point_others, '%H:%M')\n",
    "    row[1] = hour_format_point_others\n",
    "    \n",
    "top_other_posts_point"
   ]
  },
  {
   "cell_type": "markdown",
   "metadata": {},
   "source": [
    "The hours within 1:00PM EST - 3:00PM EST are the period where users recieved more points on their posts with an average value of 184.82 points per post."
   ]
  },
  {
   "cell_type": "markdown",
   "metadata": {},
   "source": [
    "### 1.11 Findings and Recommendation"
   ]
  },
  {
   "cell_type": "markdown",
   "metadata": {},
   "source": [
    "The finidings from the data exploratory analysis above includes the following:\n",
    "    \n",
    "* Ask Posts received more comments within 3:00PM EST - 4:00PM EST\n",
    "* Show Posts received more points within 10:00PM EST - 00:00AM EST\n",
    "* Other Posts received more comments and points within 1:00PM EST - 3:00PM EST\n",
    "\n",
    "It is also ideal to conclude that the users of ``Hacker News`` are mostly active at 3:00PM EST and i can recommend that the best hour to make a post on ``Hacker News`` is within the hour of 3:00PM EST"
   ]
  },
  {
   "cell_type": "markdown",
   "metadata": {},
   "source": [
    "### 1.12 Notes"
   ]
  },
  {
   "cell_type": "markdown",
   "metadata": {},
   "source": [
    "It should be noted that the data set we analyzed excluded posts without any comments. Given that, it's more accurate to say our findings are based on the posts that received comments and not the entire ``Hacker News`` posts."
   ]
  }
 ],
 "metadata": {
  "kernelspec": {
   "display_name": "Python 3",
   "language": "python",
   "name": "python3"
  },
  "language_info": {
   "codemirror_mode": {
    "name": "ipython",
    "version": 3
   },
   "file_extension": ".py",
   "mimetype": "text/x-python",
   "name": "python",
   "nbconvert_exporter": "python",
   "pygments_lexer": "ipython3",
   "version": "3.8.2"
  }
 },
 "nbformat": 4,
 "nbformat_minor": 2
}
